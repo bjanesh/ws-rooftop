{
 "cells": [
  {
   "cell_type": "code",
   "execution_count": 1,
   "metadata": {},
   "outputs": [],
   "source": [
    "import numpy as np\n",
    "from astropy.time import Time as time\n",
    "from astropy.io import ascii as io\n",
    "from astropy.table import QTable as qt\n",
    "import astropy.coordinates as co\n",
    "import astropy.units as u\n",
    "from datetime import datetime"
   ]
  },
  {
   "cell_type": "code",
   "execution_count": 2,
   "metadata": {},
   "outputs": [],
   "source": [
    "loc = co.EarthLocation(lat='41.505493d',lon='-81.681290d') # \n",
    "# sets our location\n",
    "\n",
    "now = time.now()\n",
    "\n",
    "if now.value.hour > 17:\n",
    "    tonight = time(datetime(int(now.value.year),int(now.value.month),int(now.value.day)+1,3,0,0),location = loc)\n",
    "else:\n",
    "    tonight = time(datetime(int(now.value.year),int(now.value.month),int(now.value.day),3,0,0),location = loc)\n",
    "# gives current time, then the time at about midnight\n",
    "# if before noon, it gives the \"previous\" night, so that late-night observing isn't interfered with\n",
    "# astropy's time routines give UTC time, so this is 11 PM our time\n",
    "\n",
    "sidnow = now.sidereal_time(kind='apparent',longitude='-81.681290d',model='IAU2000A')\n",
    "sidereal = tonight.sidereal_time(kind='apparent',longitude='-81.681290d',model='IAU2000A')\n",
    "# gives sidereal time from those"
   ]
  },
  {
   "cell_type": "code",
   "execution_count": 3,
   "metadata": {},
   "outputs": [],
   "source": [
    "stars = io.read('brightstars.txt')\n",
    "starnames = stars['name']\n",
    "starra = stars['ra']\n",
    "stardec = stars['dec']\n",
    "\n",
    "for i in range(0,len(starnames)):\n",
    "    globals()[starnames[i]] = co.SkyCoord(ra=starra[i]*u.hour,dec=stardec[i]*u.deg)\n",
    "# this reads in from a list of stars, with Right Ascension in hours and Declination in degrees"
   ]
  },
  {
   "cell_type": "code",
   "execution_count": 4,
   "metadata": {},
   "outputs": [],
   "source": [
    "merc = co.get_body('mercury',tonight)\n",
    "ven = co.get_body('venus',tonight)\n",
    "mars = co.get_body('mars',tonight)\n",
    "jup = co.get_body('jupiter',tonight)\n",
    "sat = co.get_body('saturn',tonight)\n",
    "ura = co.get_body('uranus',tonight)\n",
    "nep = co.get_body('neptune',tonight)\n",
    "luna = co.get_body('moon',tonight)\n",
    "\n",
    "planetlist = ['luna','merc','ven','mars','jup','sat','ura','nep']\n",
    "planetnames = ['Moon','Mercury','Venus','Mars','Jupiter','Saturn','Uranus','Neptune']\n",
    "\n",
    "for i in range(0,len(planetlist)):\n",
    "    globals()[planetlist[i]+'co'] = co.SkyCoord(ra=globals()[planetlist[i]].ra,dec=globals()[planetlist[i]].dec)\n",
    "\n",
    "# finds tonight's coordinates for each planet\n",
    "# this uses astropy's internal ephemeris\n",
    "# adding additional ephemera is described in the astropy documentation"
   ]
  },
  {
   "cell_type": "code",
   "execution_count": 5,
   "metadata": {},
   "outputs": [],
   "source": [
    "starha = sidnow.value - starra\n",
    "starha[starha < 0] = starha[starha < 0] + 24\n",
    "\n",
    "planetha = np.zeros_like(starha[:len(planetlist)])\n",
    "planetdec = np.zeros_like(planetha)\n",
    "for i in range(0,len(planetlist)):\n",
    "    planetha[i] = sidnow.value - globals()[planetlist[i]].ra.hour\n",
    "    planetdec[i] = globals()[planetlist[i]+'co'].dec.value\n",
    "planetha[planetha < 0] = planetha[planetha < 0] + 24\n",
    "\n",
    "# gives the current Hour Angle for all relevant bodies, in 0-24 scale\n",
    "# also adds the declination of the planets, for later output"
   ]
  },
  {
   "cell_type": "code",
   "execution_count": 6,
   "metadata": {},
   "outputs": [],
   "source": [
    "timespacer = np.linspace(-6,9,901) * u.hour\n",
    "\n",
    "sunalts = np.zeros(len(timespacer))\n",
    "sunalts = co.get_body('sun',tonight + timespacer).transform_to(co.AltAz(obstime = tonight + timespacer, location = (loc))).alt\n",
    "nightsky = (sunalts.value < -5)\n",
    "\n",
    "trimtime = timespacer[nightsky]\n",
    "\n",
    "# finds sunrise and sunset, trims the trimtime down to only include the night sky"
   ]
  },
  {
   "cell_type": "code",
   "execution_count": 7,
   "metadata": {},
   "outputs": [],
   "source": [
    "staralt = np.zeros([len(starnames),len(trimtime)])\n",
    "planetalt = np.zeros([len(planetlist),len(trimtime)])\n",
    "gstars = np.zeros(len(starnames))\n",
    "gplanets = np.zeros(len(planetlist))\n",
    "starsrs = np.zeros([len(starnames),2])\n",
    "planetsrs = np.zeros([len(planetlist),2])\n",
    "\n",
    "for i in range(0,len(starnames)):\n",
    "    staralt[i,:] = globals()[starnames[i]].transform_to(co.AltAz(obstime = tonight + trimtime,location = loc)).alt\n",
    "    g = np.greater(staralt[i,:], 30)\n",
    "    if sum(g) > 1:\n",
    "        gstars[i] = 1\n",
    "        starsrs[i,0] = np.where(np.greater(staralt[i,:], 30))[0][0]\n",
    "        starsrs[i,1] = np.where(np.greater(staralt[i,:], 30))[0][-1]\n",
    "\n",
    "for i in range(0,len(planetlist)):\n",
    "    planetalt[i,:] = globals()[planetlist[i]].transform_to(co.AltAz(obstime = tonight + trimtime,location = loc)).alt\n",
    "    g = np.greater(planetalt[i,:], 30)\n",
    "    if sum(g) > 1:\n",
    "        gplanets[i] = 1\n",
    "        planetsrs[i,0] = np.where(np.greater(planetalt[i,:], 30))[0][0]\n",
    "        planetsrs[i,1] = np.where(np.greater(planetalt[i,:], 30))[0][-1]\n",
    "\n",
    "# finds which bodies will be above about 60 degrees from the zenith\n",
    "# gives the first and last time they are in that position during that night\n",
    "# this is called rise and set for simplicity"
   ]
  },
  {
   "cell_type": "code",
   "execution_count": 8,
   "metadata": {},
   "outputs": [
    {
     "name": "stdout",
     "output_type": "stream",
     "text": [
      "['19:30', '19:30', ' 2:53', ' 0:10', ' 2:10', ' 4:46', '19:30', ' 1:02', '19:30', ' 3:34', '19:30', ' 6:49', ' 3:12', ' 2:28', '19:30', ' 1:06', '19:30', '22:05', ' 4:52', '19:30', ' 0:57', ' 3:04']\n"
     ]
    }
   ],
   "source": [
    "validplanets = gplanets > 0.5\n",
    "validstars = gstars > 0.5\n",
    "\n",
    "starrise = []\n",
    "starset = []\n",
    "planetrise = []\n",
    "planetset = []\n",
    "\n",
    "for i in range(0,len(starnames)):\n",
    "    r = tonight + trimtime[int(starsrs[i,0])] - (4 * u.hour)\n",
    "    s = tonight + trimtime[int(starsrs[i,1])] - (4 * u.hour)\n",
    "    starrise.append('{:2d}:{:02d}'.format(r.value.hour, r.value.minute))\n",
    "    starset.append('{:2d}:{:02d}'.format(s.value.hour, s.value.minute))\n",
    "\n",
    "for i in range(0,len(planetnames)):\n",
    "    r = tonight + trimtime[int(planetsrs[i,0])] - (4 * u.hour)\n",
    "    s = tonight + trimtime[int(planetsrs[i,1])] - (4 * u.hour)\n",
    "    planetrise.append('{:2d}:{:02d}'.format(r.value.hour, r.value.minute))\n",
    "    planetset.append('{:2d}:{:02d}'.format(s.value.hour, s.value.minute))\n",
    "\n",
    "# if a body will be visible, prints when it will rise and set"
   ]
  },
  {
   "cell_type": "code",
   "execution_count": 9,
   "metadata": {},
   "outputs": [],
   "source": [
    "# round positions to a useful value\n",
    "planetha = np.round(planetha, 2)\n",
    "planetdec = np.round(planetdec, 1)\n",
    "\n",
    "starha = np.round(starha, 2)\n",
    "stardec = np.round(stardec, 1)\n",
    "\n",
    "planetvals = np.array([planetnames,planetha,planetdec,planetrise,planetset])\n",
    "starvals = np.array([starnames,starha,stardec,starrise,starset])\n",
    "\n",
    "planetout = qt(planetvals[:,validplanets].T,names=['Object Name','Hour Angle','Declination','Rise Time','Set Time'])\n",
    "starout = qt(starvals[:,validstars].T,names=['Object Name','Hour Angle','Declination','Rise Time','Set Time'])\n",
    "\n",
    "io.write(planetout,'nightplanets.csv',format='csv',overwrite=True)\n",
    "io.write(starout,'nightstars.csv',format='csv',overwrite=True)"
   ]
  },
  {
   "cell_type": "code",
   "execution_count": null,
   "metadata": {},
   "outputs": [],
   "source": []
  }
 ],
 "metadata": {
  "kernelspec": {
   "display_name": "Python 3",
   "language": "python",
   "name": "python3"
  },
  "language_info": {
   "codemirror_mode": {
    "name": "ipython",
    "version": 3
   },
   "file_extension": ".py",
   "mimetype": "text/x-python",
   "name": "python",
   "nbconvert_exporter": "python",
   "pygments_lexer": "ipython3",
   "version": "3.8.6"
  }
 },
 "nbformat": 4,
 "nbformat_minor": 4
}
